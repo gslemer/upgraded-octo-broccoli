{
  "nbformat": 4,
  "nbformat_minor": 0,
  "metadata": {
    "colab": {
      "name": "deep-learning-part2.ipynb",
      "provenance": [],
      "collapsed_sections": [],
      "include_colab_link": true
    },
    "kernelspec": {
      "name": "python3",
      "display_name": "Python 3"
    },
    "accelerator": "GPU"
  },
  "cells": [
    {
      "cell_type": "markdown",
      "metadata": {
        "id": "view-in-github",
        "colab_type": "text"
      },
      "source": [
        "<a href=\"https://colab.research.google.com/github/gslemer/upgraded-octo-broccoli/blob/master/deep_learning_part2.ipynb\" target=\"_parent\"><img src=\"https://colab.research.google.com/assets/colab-badge.svg\" alt=\"Open In Colab\"/></a>"
      ]
    },
    {
      "cell_type": "markdown",
      "metadata": {
        "id": "rLLmnh67DocC",
        "colab_type": "text"
      },
      "source": [
        "# configurando drive"
      ]
    },
    {
      "cell_type": "code",
      "metadata": {
        "id": "TJ9Gozb4CLEh",
        "colab_type": "code",
        "colab": {}
      },
      "source": [
        "!apt-get install -y -qq software-properties-common python-software-properties module-init-tools\n",
        "!add-apt-repository -y ppa:alessandro-strada/ppa 2>&1 > /dev/null\n",
        "!apt-get update -qq 2>&1 > /dev/null\n",
        "!apt-get -y install -qq google-drive-ocamlfuse fuse\n",
        "from google.colab import auth\n",
        "auth.authenticate_user()\n",
        "from oauth2client.client import GoogleCredentials\n",
        "creds = GoogleCredentials.get_application_default()\n",
        "import getpass\n",
        "!google-drive-ocamlfuse -headless -id={creds.client_id} -secret={creds.client_secret} < /dev/null 2>&1 | grep URL\n",
        "vcode = getpass.getpass()\n",
        "!echo {vcode} | google-drive-ocamlfuse -headless -id={creds.client_id} -secret={creds.client_secret}"
      ],
      "execution_count": 0,
      "outputs": []
    },
    {
      "cell_type": "code",
      "metadata": {
        "id": "8Y80l37cCWwJ",
        "colab_type": "code",
        "colab": {}
      },
      "source": [
        "!mkdir -p drive\n",
        "!google-drive-ocamlfuse drive"
      ],
      "execution_count": 0,
      "outputs": []
    },
    {
      "cell_type": "markdown",
      "metadata": {
        "colab_type": "text",
        "id": "JQU0xXfqtA_Y"
      },
      "source": [
        "# Deep Learning - parte 2: Convolutional Neural Network"
      ]
    },
    {
      "cell_type": "markdown",
      "metadata": {
        "colab_type": "text",
        "id": "m9fA1rJytAWm"
      },
      "source": [
        "Redes convolucionais são usadas principalmente para classificação de imagens.\n",
        "\n",
        "## Como elas funcionam?\n",
        "\n",
        "Filtros convolucionais são usados para extrair features de imagens. Vamos olhar um exemplo de como extrair bordas de imagens:\n",
        "\n",
        "<img src=\"https://cdn-images-1.medium.com/max/1000/1*TAo3aselJNVwrLLr654Myg.gif\" alt=\"drawing\" width=\"800\"/>\n",
        "\n",
        "Nas redes convolucionais esses filtros são aplicados em várias camadas:\n",
        "\n",
        "<img src=\"https://cdn-images-1.medium.com/max/1600/1*_34EtrgYk6cQxlJ2br51HQ.gif\" width=700/>\n",
        "\n",
        "Os valores dos filtros são aprendidos, portanto a própria rede aprende quais características são relevantes.\n",
        "\n",
        "![](https://adeshpande3.github.io/assets/deconvnet.png)\n"
      ]
    },
    {
      "cell_type": "markdown",
      "metadata": {
        "colab_type": "text",
        "id": "trJkG4PzRY4J"
      },
      "source": [
        "## Construindo uma CNN pra predizer lateralidade do raio-X"
      ]
    },
    {
      "cell_type": "code",
      "metadata": {
        "colab_type": "code",
        "id": "0RVx7UjzRnuQ",
        "colab": {}
      },
      "source": [
        "# Primeiro vamos definir os imports\n",
        "\n",
        "import warnings\n",
        "warnings.filterwarnings('ignore')\n",
        "\n",
        "\n",
        "import numpy as np\n",
        "import matplotlib.pyplot as plt\n",
        "%matplotlib inline\n",
        "\n",
        "import time\n",
        "import os\n",
        "import datetime\n",
        "\n",
        "\n",
        "from keras import datasets, Model\n",
        "from keras.layers.convolutional import Conv2D\n",
        "from keras.layers.convolutional import MaxPooling2D\n",
        "from keras.layers import Flatten, GlobalAveragePooling2D\n",
        "from keras.layers.core import Dropout\n",
        "from keras.layers.core import Dense\n",
        "from keras.optimizers import Adam\n",
        "from keras import Sequential\n",
        "from keras.utils import to_categorical\n",
        "from keras.callbacks import ModelCheckpoint, EarlyStopping\n",
        "from keras.applications import VGG16\n",
        "from keras.preprocessing.image import ImageDataGenerator\n",
        "from keras.models import load_model\n",
        "from keras import backend\n",
        "import tensorflow as tf\n",
        "from random import randint\n",
        "\n",
        "from keras.preprocessing.image import load_img, img_to_array\n",
        "\n",
        "import glob"
      ],
      "execution_count": 0,
      "outputs": []
    },
    {
      "cell_type": "markdown",
      "metadata": {
        "id": "y7sgifiKLzP7",
        "colab_type": "text"
      },
      "source": [
        "Nosso desafio é criar uma rede para aprender se um raio X é lateral ou de frente:\n",
        "\n",
        "![alt text](https://github.com/jessica-santos/qcon_notebook/raw/066adc30051b0a5b6e6a3cbab31b00fb6b75dbd5/lateral.png)\n",
        "\n",
        "** O ideal é sempre visualizar uma amostra das imagens de cada classe e, assim como fazemos feature engineering em variáveis, também podemos ver se é necessário fazer alguma transformação ou normalização nas imagens."
      ]
    },
    {
      "cell_type": "code",
      "metadata": {
        "colab_type": "code",
        "id": "DfkwmsT3YJtO",
        "colab": {}
      },
      "source": [
        "!ls /content/drive/images-chest-orientation"
      ],
      "execution_count": 0,
      "outputs": []
    },
    {
      "cell_type": "code",
      "metadata": {
        "id": "gz7TRoSNB4hr",
        "colab_type": "code",
        "colab": {}
      },
      "source": [
        "!ls /content/drive/images-chest-orientation/train"
      ],
      "execution_count": 0,
      "outputs": []
    },
    {
      "cell_type": "code",
      "metadata": {
        "id": "nI79O6avMaSz",
        "colab_type": "code",
        "colab": {}
      },
      "source": [
        "files_frente = glob.glob('drive/images-chest-orientation/train/frente/*.jpg')\n",
        "for i in range(5):\n",
        "    plt.figure(figsize=(2,2))\n",
        "    indx = randint(0,len(files_frente))\n",
        "    im = plt.imread(files_frente[indx])\n",
        "    plt.imshow(im)"
      ],
      "execution_count": 0,
      "outputs": []
    },
    {
      "cell_type": "code",
      "metadata": {
        "id": "7r73dBUiM4Ix",
        "colab_type": "code",
        "colab": {}
      },
      "source": [
        "files_lateral = glob.glob('drive/images-chest-orientation/train/lateral/*.jpg')\n",
        "for i in range(5):\n",
        "    plt.figure(figsize=(2,2))\n",
        "    indx = randint(0,len(files_lateral))\n",
        "    im = plt.imread(files_lateral[indx])\n",
        "    plt.imshow(im)\n"
      ],
      "execution_count": 0,
      "outputs": []
    },
    {
      "cell_type": "markdown",
      "metadata": {
        "colab_type": "text",
        "id": "MkXsrXz_SgcQ"
      },
      "source": [
        "## Input de dados\n",
        "\n",
        "Existem várias formas de inputar os dados para treinamento, vamos usar o `Image Data Generator` para ler as imagens a partir do disco"
      ]
    },
    {
      "cell_type": "code",
      "metadata": {
        "colab_type": "code",
        "id": "PxMQU9KBT_LK",
        "colab": {}
      },
      "source": [
        "# aqui definimos as transformações que serão aplicadas na imagem e a % de dados \n",
        "# que serão usados para validação\n",
        "\n",
        "#estamos nesse caso apenas normalizando a imagem dividindo por 255\n",
        "\n",
        "data_generator = ImageDataGenerator(rescale=1./255, validation_split=0.30)"
      ],
      "execution_count": 0,
      "outputs": []
    },
    {
      "cell_type": "code",
      "metadata": {
        "colab_type": "code",
        "id": "TdFCG_SUUe91",
        "colab": {}
      },
      "source": [
        "# para criar os generators precisamos definir o path da pasta raiz com as imagens e o tamanho da BATCH SIZE\n",
        "\n",
        "path = '/content/drive/images-chest-orientation/train/'\n",
        "BATCH_SIZE = 50\n",
        "\n",
        "\n",
        "train_generator = data_generator.flow_from_directory(path, shuffle=True, seed=13, classes=['frente', 'lateral'],\n",
        "                                                     class_mode='categorical', batch_size=BATCH_SIZE, subset=\"training\")\n",
        "\n",
        "validation_generator = data_generator.flow_from_directory(path, shuffle=True, seed=13, classes=['frente', 'lateral'],\n",
        "                                                     class_mode='categorical', batch_size=BATCH_SIZE, subset=\"validation\")"
      ],
      "execution_count": 0,
      "outputs": []
    },
    {
      "cell_type": "markdown",
      "metadata": {
        "colab_type": "text",
        "id": "gnO2vFANY-A_"
      },
      "source": [
        "Vamos dar uma olhada em como ficaram as imagens:"
      ]
    },
    {
      "cell_type": "code",
      "metadata": {
        "colab_type": "code",
        "id": "ht2Dtb7GYY29",
        "colab": {}
      },
      "source": [
        "plt.imshow(train_generator[3][0][0])\n",
        "shape = train_generator[3][0][0].shape"
      ],
      "execution_count": 0,
      "outputs": []
    },
    {
      "cell_type": "code",
      "metadata": {
        "colab_type": "code",
        "id": "cyl9SIuoZV4u",
        "colab": {}
      },
      "source": [
        "plt.imshow(validation_generator[1][0][2])"
      ],
      "execution_count": 0,
      "outputs": []
    },
    {
      "cell_type": "markdown",
      "metadata": {
        "colab_type": "text",
        "id": "76JMntETaCK5"
      },
      "source": [
        "## Definindo a arquitetura:\n",
        "\n",
        "Vamos criar uma rede pequena que consiga identificar corretamente essas imagens:"
      ]
    },
    {
      "cell_type": "code",
      "metadata": {
        "colab_type": "code",
        "id": "O7bAtj5HZ0zS",
        "colab": {}
      },
      "source": [
        "def build_model(shape):\n",
        "    '''\n",
        "    Constroi as camadas da rede\n",
        "    :return: modelo construido\n",
        "    '''\n",
        "    \n",
        "    model = Sequential()\n",
        "\n",
        "    # primeira camada adiciona o shape do input\n",
        "    # adiciona a funcao de ativacao\n",
        "    # padding define o output da camada, \"same\" eh mesmo tamanho\n",
        "    # tamanho do kernel (mascara)\n",
        "    # quantidade de filtros (neurônios)\n",
        "    # também é possível alterar a inicializacao, bias, entre outros -- https://keras.io/layers/convolutional/#conv2d\n",
        "    model.add(Conv2D(filters=64, kernel_size=2, padding='same', activation='relu', input_shape=shape, kernel_initializer='glorot_uniform'))\n",
        "    #Tamanho do downsampling\n",
        "    model.add(MaxPooling2D(pool_size=2))\n",
        "    # Fracao das unidades que serao zeradas\n",
        "    model.add(Dropout(0.3))\n",
        "\n",
        "    # Segunda camada\n",
        "    model.add(Conv2D(filters=128, kernel_size=2, padding='same', activation='relu', kernel_initializer='glorot_uniform'))\n",
        "    model.add(MaxPooling2D(pool_size=2))\n",
        "    model.add(Dropout(0.3))\n",
        "\n",
        "    # Da um reshape no output transformando em array\n",
        "    model.add(Flatten())\n",
        "\n",
        "    # Camada full-connected \n",
        "    model.add(Dense(256, activation='relu'))\n",
        "    model.add(Dropout(0.5))\n",
        "\n",
        "    #Camada de saida com o resultado das classes\n",
        "    model.add(Dense(2, activation='sigmoid'))\n",
        "\n",
        "    return model"
      ],
      "execution_count": 0,
      "outputs": []
    },
    {
      "cell_type": "markdown",
      "metadata": {
        "id": "YicO_oLbB4iJ",
        "colab_type": "text"
      },
      "source": [
        "Outros tipos de camadas utilizadas:\n",
        "\n",
        "MaxPooling:\n",
        "Realiza o downsampling pós convolução.\n",
        "\n",
        "<img src=\"https://developers.google.com/machine-learning/practica/image-classification/images/maxpool_animation.gif\" width=350/>\n",
        "\n",
        "\n"
      ]
    },
    {
      "cell_type": "markdown",
      "metadata": {
        "id": "AbFXboJXB4iK",
        "colab_type": "text"
      },
      "source": [
        "Dropout:\n",
        "Em cada época desativa aleatoriamente um % de neurônios. Evita overfitting\n",
        "    \n",
        "<img src=\"https://i0.wp.com/deeplearningbook.com.br/wp-content/uploads/2018/07/rede2.png?w=310\" width=300/>"
      ]
    },
    {
      "cell_type": "code",
      "metadata": {
        "colab_type": "code",
        "id": "bXwTN58aao4k",
        "scrolled": true,
        "colab": {}
      },
      "source": [
        "model = build_model(shape)\n",
        "model.summary()"
      ],
      "execution_count": 0,
      "outputs": []
    },
    {
      "cell_type": "code",
      "metadata": {
        "colab_type": "code",
        "id": "El7wzNoCatdU",
        "colab": {}
      },
      "source": [
        "# Compila o modelo definindo: otimizador, metrica e loss function\n",
        "model.compile(loss='binary_crossentropy',\n",
        "             optimizer='adam',\n",
        "             metrics=['accuracy'])"
      ],
      "execution_count": 0,
      "outputs": []
    },
    {
      "cell_type": "markdown",
      "metadata": {
        "colab_type": "text",
        "id": "INt1TltSb0Ot"
      },
      "source": [
        "## Treinamento\n",
        "\n",
        "Como lemos os dados usando um generator, o fit do keras também será usando um `fit_generator`.\n",
        "\n",
        "Também usaremos alguns `callbacks`: \n",
        " - ModelCheckPoint para salvar o modelo que tiver o melhor loss durante o treinamento e,\n",
        " - EarlyStop para interromper o treinamento caso a rede pare de aprender (convergiu)."
      ]
    },
    {
      "cell_type": "code",
      "metadata": {
        "colab_type": "code",
        "id": "hkByiwpGd5P3",
        "colab": {}
      },
      "source": [
        "# aqui definimos as transformações que serão aplicadas na imagem e a % de dados \n",
        "# que serão usados para validação\n",
        "\n",
        "#estamos nesse caso apenas normalizando a imagem dividindo por 255\n",
        "\n",
        "data_generator = ImageDataGenerator(rescale=1./255, validation_split=0.30)"
      ],
      "execution_count": 0,
      "outputs": []
    },
    {
      "cell_type": "code",
      "metadata": {
        "colab_type": "code",
        "id": "y5IvExyrd5P9",
        "colab": {}
      },
      "source": [
        "# para criar os generators precisamos definir o path da pasta raiz com as imagens e o tamanho da BATCH SIZE\n",
        "\n",
        "path = '/content/drive/images-chest-orientation/train/'\n",
        "BATCH_SIZE = 50\n",
        "\n",
        "\n",
        "train_generator = data_generator.flow_from_directory(path, shuffle=True, seed=13, classes=['frente', 'lateral'],\n",
        "                                                     class_mode='categorical', batch_size=BATCH_SIZE, subset=\"training\")\n",
        "\n",
        "validation_generator = data_generator.flow_from_directory(path, shuffle=True, seed=13, classes=['frente', 'lateral'],\n",
        "                                                     class_mode='categorical', batch_size=BATCH_SIZE, subset=\"validation\")"
      ],
      "execution_count": 0,
      "outputs": []
    },
    {
      "cell_type": "code",
      "metadata": {
        "colab_type": "code",
        "id": "KffsfxWgbyDb",
        "colab": {}
      },
      "source": [
        "checkpoint = ModelCheckpoint('chest_orientation_model.hdf5', \n",
        "                             monitor='val_loss', \n",
        "                             verbose=1, mode='min', \n",
        "                             save_best_only=True)\n",
        "\n",
        "early_stop = EarlyStopping(monitor='val_loss',\n",
        "                                   min_delta=0.001,\n",
        "                                   patience=2, # geralmente colocamos no mínimo 5 epocas\n",
        "                                   mode='min',\n",
        "                                   verbose=1)"
      ],
      "execution_count": 0,
      "outputs": []
    },
    {
      "cell_type": "code",
      "metadata": {
        "colab_type": "code",
        "id": "Ca5UO7sNc28i",
        "colab": {}
      },
      "source": [
        "model.fit_generator(generator=train_generator,\n",
        "                    steps_per_epoch = train_generator.samples//BATCH_SIZE,\n",
        "                    validation_data=validation_generator,\n",
        "                    validation_steps=validation_generator.samples//BATCH_SIZE,\n",
        "                    epochs= 50,\n",
        "                    callbacks=[checkpoint, early_stop]\n",
        "                    )"
      ],
      "execution_count": 0,
      "outputs": []
    },
    {
      "cell_type": "markdown",
      "metadata": {
        "colab_type": "text",
        "id": "yta0wNPbm334"
      },
      "source": [
        "## Avaliação:\n",
        "\n",
        "Sempre importante separar uma quantidade de dados para testar o modelo no final"
      ]
    },
    {
      "cell_type": "code",
      "metadata": {
        "colab_type": "code",
        "id": "zqDb2-f3dbiV",
        "colab": {}
      },
      "source": [
        "import glob"
      ],
      "execution_count": 0,
      "outputs": []
    },
    {
      "cell_type": "code",
      "metadata": {
        "colab_type": "code",
        "id": "1rctpVhgd20q",
        "colab": {}
      },
      "source": [
        "test_set = glob.glob('/content/drive/images-chest-orientation/test/**/*.jpg', recursive=True)"
      ],
      "execution_count": 0,
      "outputs": []
    },
    {
      "cell_type": "code",
      "metadata": {
        "colab_type": "code",
        "id": "CQa1Xc_SjUFx",
        "colab": {}
      },
      "source": [
        "test_set"
      ],
      "execution_count": 0,
      "outputs": []
    },
    {
      "cell_type": "code",
      "metadata": {
        "colab_type": "code",
        "id": "x34Idp6pkDfm",
        "colab": {}
      },
      "source": [
        "# temos que fazer o load do model que teve o melhor loss\n",
        "model = load_model('chest_orientation_model.hdf5')"
      ],
      "execution_count": 0,
      "outputs": []
    },
    {
      "cell_type": "code",
      "metadata": {
        "colab_type": "code",
        "id": "vG5SpxO3keQZ",
        "colab": {}
      },
      "source": [
        "image_test = np.array([img_to_array(load_img(image_name, target_size=(256, 256), color_mode='rgb'))/255 for image_name in test_set])"
      ],
      "execution_count": 0,
      "outputs": []
    },
    {
      "cell_type": "code",
      "metadata": {
        "colab_type": "code",
        "id": "Uy5jPu5Hj4LF",
        "colab": {}
      },
      "source": [
        "y_pred = model.predict(image_test)"
      ],
      "execution_count": 0,
      "outputs": []
    },
    {
      "cell_type": "code",
      "metadata": {
        "colab_type": "code",
        "id": "3jSi0qLEjVdw",
        "colab": {}
      },
      "source": [
        "y_true = [1,1,1,1,1,0,0,0,0,0]\n",
        "labels = ['Frente', 'Lateral']\n",
        "figure = plt.figure(figsize=(20, 8))\n",
        "for i in range(10):\n",
        "    ax = figure.add_subplot(3, 5, i + 1, xticks=[], yticks=[])\n",
        "    # Display each image\n",
        "    im = plt.imread(test_set[i])\n",
        "    ax.imshow(im)\n",
        "    predict_index = np.argmax(y_pred[i])\n",
        "    true_index = y_true[i]\n",
        "    # Set the title for each image\n",
        "    ax.set_title(\"{} ({})\".format(labels[predict_index], \n",
        "                                  labels[true_index]),\n",
        "                                  color=(\"green\" if predict_index == true_index else \"red\"))"
      ],
      "execution_count": 0,
      "outputs": []
    },
    {
      "cell_type": "markdown",
      "metadata": {
        "colab_type": "text",
        "id": "ZvZ5YY5RnWk9"
      },
      "source": [
        "## Transfer Learning"
      ]
    },
    {
      "cell_type": "markdown",
      "metadata": {
        "id": "02FZWBmzB4iv",
        "colab_type": "text"
      },
      "source": [
        "Nem sempre precisamos definir a arquitetura da nossa rede do zero. Para reconhecimento de imagens existem arquiteturas já definidas e pré-treinadas com o Imagenet - um dataset com 1.2 milhões de imagens e 1000 categorias.\n",
        "\n",
        "![](https://cdn-images-1.medium.com/max/1400/1*n16lj3lSkz2miMc_5cvkrA.jpeg)\n",
        "[referência](https://towardsdatascience.com/neural-network-architectures-156e5bad51ba)\n",
        "\n",
        "Para usar essas redes utilizamos **transfer learning**, transferir os pesos já aprendidos nessas redes para uma tarefa."
      ]
    },
    {
      "cell_type": "code",
      "metadata": {
        "id": "TUuc45kLfiU9",
        "colab_type": "code",
        "colab": {}
      },
      "source": [
        "data_generator = ImageDataGenerator(samplewise_center=False, \n",
        "                              samplewise_std_normalization=False, \n",
        "                              horizontal_flip=True, \n",
        "                              vertical_flip=False, \n",
        "                              height_shift_range=0.1, \n",
        "                              width_shift_range=0.1, \n",
        "                              brightness_range=[0.7, 1.5],\n",
        "                              rotation_range=3, \n",
        "                              shear_range=0.01,\n",
        "                              fill_mode='nearest',\n",
        "                              zoom_range=0.125,\n",
        "                              rescale = 1./255, validation_split=0.30)"
      ],
      "execution_count": 0,
      "outputs": []
    },
    {
      "cell_type": "code",
      "metadata": {
        "id": "DtQhaWnYfkb0",
        "colab_type": "code",
        "colab": {}
      },
      "source": [
        "path = '/content/drive/images-chest-orientation/train/'\n",
        "BATCH_SIZE = 50\n",
        "\n",
        "\n",
        "train_generator = data_generator.flow_from_directory(path, shuffle=True, seed=13, classes=['frente', 'lateral'],\n",
        "                                                     class_mode='categorical', batch_size=BATCH_SIZE, subset=\"training\")\n",
        "\n",
        "validation_generator = data_generator.flow_from_directory(path, shuffle=True, seed=13, classes=['frente', 'lateral'],\n",
        "                                                     class_mode='categorical', batch_size=BATCH_SIZE, subset=\"validation\")"
      ],
      "execution_count": 0,
      "outputs": []
    },
    {
      "cell_type": "code",
      "metadata": {
        "id": "qmCm_subB4iv",
        "colab_type": "code",
        "colab": {}
      },
      "source": [
        "from keras.applications import MobileNet"
      ],
      "execution_count": 0,
      "outputs": []
    },
    {
      "cell_type": "markdown",
      "metadata": {
        "id": "Kxo16tQDe6Z4",
        "colab_type": "text"
      },
      "source": [
        "### **Usaremos a MobileNet**\n",
        "\n",
        "\n",
        "\n",
        "![alt text](https://i.ytimg.com/vi/onKT9OwMiMU/maxresdefault.jpg)"
      ]
    },
    {
      "cell_type": "code",
      "metadata": {
        "id": "ps1nh5oxB4i2",
        "colab_type": "code",
        "colab": {}
      },
      "source": [
        "def build_model(shape):\n",
        "    '''\n",
        "    Constroi as camadas da rede\n",
        "    :return: modelo construido\n",
        "    '''\n",
        "    \n",
        "    base_model = MobileNet(weights = \"imagenet\", include_top=False, input_shape = shape)\n",
        "    # congelando camadas que não iremos treinar.\n",
        "    # para congelar alguns layers específicos basta passar o indice: for layer in mobile.layers[:5]:\n",
        "    for layer in base_model.layers[:3]:\n",
        "        layer.Trainable=False\n",
        "    \n",
        "    x = base_model.output\n",
        "    x = GlobalAveragePooling2D()(x)\n",
        "    predictions = Dense(2, activation='sigmoid')(x)\n",
        "    \n",
        "    model = Model(input = base_model.input, output = predictions)\n",
        "\n",
        "    return model"
      ],
      "execution_count": 0,
      "outputs": []
    },
    {
      "cell_type": "code",
      "metadata": {
        "id": "qx314mPXB4i5",
        "colab_type": "code",
        "colab": {}
      },
      "source": [
        "model = build_model(shape)"
      ],
      "execution_count": 0,
      "outputs": []
    },
    {
      "cell_type": "code",
      "metadata": {
        "id": "eT3z2d8BB4i7",
        "colab_type": "code",
        "colab": {}
      },
      "source": [
        "model.summary()"
      ],
      "execution_count": 0,
      "outputs": []
    },
    {
      "cell_type": "code",
      "metadata": {
        "id": "TJearDCHB4i9",
        "colab_type": "code",
        "colab": {}
      },
      "source": [
        "model.compile(loss='binary_crossentropy',\n",
        "             optimizer='adam',\n",
        "             metrics=['accuracy'])"
      ],
      "execution_count": 0,
      "outputs": []
    },
    {
      "cell_type": "code",
      "metadata": {
        "id": "OAQpT8XSB4i-",
        "colab_type": "code",
        "colab": {}
      },
      "source": [
        "model.fit_generator(generator=train_generator,\n",
        "                    steps_per_epoch = train_generator.samples//BATCH_SIZE,\n",
        "                    validation_data=validation_generator,\n",
        "                    validation_steps=validation_generator.samples//BATCH_SIZE,\n",
        "                    epochs= 50,\n",
        "                    callbacks=[checkpoint, early_stop]\n",
        "                    )"
      ],
      "execution_count": 0,
      "outputs": []
    },
    {
      "cell_type": "markdown",
      "metadata": {
        "id": "K1BpB2tSB4jB",
        "colab_type": "text"
      },
      "source": [
        "- Vamos visualizar algumas classificações"
      ]
    },
    {
      "cell_type": "code",
      "metadata": {
        "id": "c8T7DZeGCXsP",
        "colab_type": "code",
        "colab": {}
      },
      "source": [
        "y_pred = model.predict(image_test)"
      ],
      "execution_count": 0,
      "outputs": []
    },
    {
      "cell_type": "code",
      "metadata": {
        "id": "MluovNpwCO2o",
        "colab_type": "code",
        "colab": {}
      },
      "source": [
        "y_true = [1,1,1,1,1,0,0,0,0,0]\n",
        "labels = ['Frente', 'Lateral']\n",
        "figure = plt.figure(figsize=(20, 8))\n",
        "for i in range(10):\n",
        "    ax = figure.add_subplot(3, 5, i + 1, xticks=[], yticks=[])\n",
        "    # Display each image\n",
        "    im = plt.imread(test_set[i])\n",
        "    ax.imshow(im)\n",
        "    predict_index = np.argmax(y_pred[i])\n",
        "    true_index = y_true[i]\n",
        "    # Set the title for each image\n",
        "    ax.set_title(\"{} ({})\".format(labels[predict_index], \n",
        "                                  labels[true_index]),\n",
        "                                  color=(\"green\" if predict_index == true_index else \"red\"))"
      ],
      "execution_count": 0,
      "outputs": []
    },
    {
      "cell_type": "markdown",
      "metadata": {
        "id": "k7J_7jIVB4jB",
        "colab_type": "text"
      },
      "source": [
        "## Razões de porque sua rede pode não estar funcionando:\n",
        "\n",
        "https://blog.slavv.com/37-reasons-why-your-neural-network-is-not-working-4020854bd607"
      ]
    }
  ]
}